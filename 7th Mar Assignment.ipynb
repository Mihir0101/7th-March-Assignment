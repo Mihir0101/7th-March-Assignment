{
 "cells": [
  {
   "cell_type": "markdown",
   "id": "67b80577-608e-414b-addb-da24497cef3c",
   "metadata": {},
   "source": [
    "# 7th Mar Assignment"
   ]
  },
  {
   "cell_type": "code",
   "execution_count": null,
   "id": "e2fa8ee4-7b70-48ba-81d8-19a931de741c",
   "metadata": {},
   "outputs": [],
   "source": []
  },
  {
   "cell_type": "markdown",
   "id": "20c0fc38-6545-4c77-b906-df1c436b5b07",
   "metadata": {},
   "source": [
    "Q1. What are the three measures of central tendency?"
   ]
  },
  {
   "cell_type": "markdown",
   "id": "6a5f6bb0-aea9-43a1-be3e-0cfdc4767aba",
   "metadata": {},
   "source": [
    "1.Mean: The mean is the most commonly used measure of central tendency. It is calculated by summing up all the values in a dataset and dividing the sum by the total number of values.\n",
    "\n",
    "2.Median: The median is the average of the two middle values. The median is less affected by extreme values and is considered a robust measure of central tendency.It is used to solve the problem of outliers.\n",
    "\n",
    "3.Mode: The mode represents the most frequently occurring value in a dataset.The mode is used for categorical  data but can also be used for numerical data.\n",
    "\n"
   ]
  },
  {
   "cell_type": "code",
   "execution_count": null,
   "id": "4c046aa6-1984-4d53-97ac-cb49b160ec62",
   "metadata": {},
   "outputs": [],
   "source": []
  },
  {
   "cell_type": "markdown",
   "id": "4c4c9eed-c120-4e97-9266-c6826e3739c5",
   "metadata": {},
   "source": [
    "Q2. What is the difference between the mean, median, and mode? How are they used to measure the \n",
    "central tendency of a dataset?"
   ]
  },
  {
   "cell_type": "markdown",
   "id": "33c99587-a0db-4438-bced-1ca8088499d5",
   "metadata": {},
   "source": [
    "* Mean: The mean is calculated by summing up all the values in a dataset and dividing the sum by the total number of values. It represents the arithmetic average of the dataset. "
   ]
  },
  {
   "cell_type": "markdown",
   "id": "26bbdaad-151b-4495-b52d-d34e52053f5a",
   "metadata": {},
   "source": [
    "* Median: The median is the middle value in a dataset when the values are arranged in ascending or descending order. It is often used when the data contains outliers or when the distribution is skewed. The median is useful for both ordinal and interval data."
   ]
  },
  {
   "cell_type": "markdown",
   "id": "f89f4140-4254-46b9-bdd6-407289838370",
   "metadata": {},
   "source": [
    "* Mode: The mode is the value that appears most frequently in a dataset. It represents the peak or most common value.It can be used to identify the most frequent category or to describe the peak of a distribution.\n",
    "\n"
   ]
  },
  {
   "cell_type": "markdown",
   "id": "3fdac5fd-391d-4af8-af93-273f57ac8728",
   "metadata": {},
   "source": [
    "Mean,median and mode do their work specificly.The mean provides an overall average, while the median gives the midpoint of the dataset, and the mode identifies the most frequently occurring value.User have to decide which type of output he/she wants,and depends uppon that user have to choose appropriate measure of central tendency."
   ]
  },
  {
   "cell_type": "code",
   "execution_count": null,
   "id": "052dd501-6d90-4fce-a494-de087867aee9",
   "metadata": {},
   "outputs": [],
   "source": []
  },
  {
   "cell_type": "markdown",
   "id": "a6a4a16e-8327-484f-9281-8000cb3c69e3",
   "metadata": {},
   "source": [
    "Q3. Measure the three measures of central tendency for the given height data:\n",
    "\n",
    " [178,177,176,177,178.2,178,175,179,180,175,178.9,176.2,177,172.5,178,176.5]"
   ]
  },
  {
   "cell_type": "code",
   "execution_count": 1,
   "id": "4c81dba8-9e2b-4d94-bc96-f2d24ae158ba",
   "metadata": {},
   "outputs": [],
   "source": [
    "import numpy as np"
   ]
  },
  {
   "cell_type": "code",
   "execution_count": 2,
   "id": "879c3ddb-57fa-452a-9026-638788f880f3",
   "metadata": {},
   "outputs": [],
   "source": [
    "height= [178,177,176,177,178.2,178,175,179,180,175,178.9,176.2,177,172.5,178,176.5]"
   ]
  },
  {
   "cell_type": "code",
   "execution_count": 3,
   "id": "7fe8ccdd-0af7-4dbd-bfcd-5adf361bad19",
   "metadata": {},
   "outputs": [
    {
     "data": {
      "text/plain": [
       "177.01875"
      ]
     },
     "execution_count": 3,
     "metadata": {},
     "output_type": "execute_result"
    }
   ],
   "source": [
    "np.mean(height)"
   ]
  },
  {
   "cell_type": "code",
   "execution_count": 4,
   "id": "af16d2ec-8de3-4a9c-a22b-f0b482fb3fc9",
   "metadata": {},
   "outputs": [
    {
     "data": {
      "text/plain": [
       "177.0"
      ]
     },
     "execution_count": 4,
     "metadata": {},
     "output_type": "execute_result"
    }
   ],
   "source": [
    "np.median(height)"
   ]
  },
  {
   "cell_type": "code",
   "execution_count": 6,
   "id": "bb21911f-8838-4e3e-83b6-0c8fb5f70541",
   "metadata": {},
   "outputs": [
    {
     "name": "stderr",
     "output_type": "stream",
     "text": [
      "/tmp/ipykernel_84/56403889.py:3: FutureWarning: Unlike other reduction functions (e.g. `skew`, `kurtosis`), the default behavior of `mode` typically preserves the axis it acts along. In SciPy 1.11.0, this behavior will change: the default value of `keepdims` will become False, the `axis` over which the statistic is taken will be eliminated, and the value None will no longer be accepted. Set `keepdims` to True or False to avoid this warning.\n",
      "  stats.mode(height)\n"
     ]
    },
    {
     "data": {
      "text/plain": [
       "ModeResult(mode=array([177.]), count=array([3]))"
      ]
     },
     "execution_count": 6,
     "metadata": {},
     "output_type": "execute_result"
    }
   ],
   "source": [
    "from scipy import stats\n",
    "\n",
    "stats.mode(height)"
   ]
  },
  {
   "cell_type": "code",
   "execution_count": null,
   "id": "5f195b07-fbdd-46d2-a9bc-db4be7f01529",
   "metadata": {},
   "outputs": [],
   "source": []
  },
  {
   "cell_type": "markdown",
   "id": "6defa61e-7b55-4191-af66-06669106b748",
   "metadata": {},
   "source": [
    "Q4. Find the standard deviation for the given data:\n",
    "\n",
    "[178,177,176,177,178.2,178,175,179,180,175,178.9,176.2,177,172.5,178,176.5]"
   ]
  },
  {
   "cell_type": "code",
   "execution_count": 7,
   "id": "7fcfd653-fe22-48ee-b26d-4d3a85cb1146",
   "metadata": {},
   "outputs": [
    {
     "data": {
      "text/plain": [
       "1.7885814036548633"
      ]
     },
     "execution_count": 7,
     "metadata": {},
     "output_type": "execute_result"
    }
   ],
   "source": [
    "h=[178,177,176,177,178.2,178,175,179,180,175,178.9,176.2,177,172.5,178,176.5]\n",
    "np.std(h)"
   ]
  },
  {
   "cell_type": "code",
   "execution_count": null,
   "id": "daed3d36-eb92-4782-b346-c2b63d006018",
   "metadata": {},
   "outputs": [],
   "source": []
  },
  {
   "cell_type": "markdown",
   "id": "50d3ae15-ad16-45b1-89aa-d55e1136839a",
   "metadata": {},
   "source": [
    "Q5. How are measures of dispersion such as range, variance, and standard deviation used to describe \n",
    "the spread of a dataset? Provide an example."
   ]
  },
  {
   "cell_type": "markdown",
   "id": "d97d9c55-f0a9-4353-bfd2-b5595399baae",
   "metadata": {},
   "source": [
    "* Range: The range is the simplest measure of dispersion and is calculated as the difference between the maximum and minimum values in a dataset. It provides an indication of the total spread of the data. However, the range does not take into account the distribution of values between the minimum and maximum, so it can be influenced by outliers.\n",
    "\n",
    "Example: weights = [67,86,45,89,90,77,67]\n",
    "         \n",
    "         max = 90\n",
    "         \n",
    "         min = 45\n",
    "         \n",
    "         range = max - min \n",
    "         \n",
    "         range = 90 - 45\n",
    "         \n",
    "         range = 45\n",
    "\n",
    "* Variance: Variance measures the average squared deviation of each data point from the mean. It takes into account the spread of values and their distances from the mean. A higher variance indicates a greater spread of values.\n",
    "\n",
    "Example: Same dataset.\n",
    "\n",
    "         weights = [67,86,45,89,90,77,67]\n",
    "         \n",
    "         Var = Σ((X - μ)^2) / N\n",
    "         \n",
    "         μ = 67 + 86 + 45 + 89 + 90 + 77 + 67 / 7\n",
    "        \n",
    "           = 74.42\n",
    "         \n",
    "         Σ((X - μ)^2) = (67-74.42)^2+(86-74.42)^2+(45-74.42)^2+(89-74.42)^2+(90-74.42)^2+(77-74.42)^2+(67-74.42)^2\n",
    "         \n",
    "                      = 55.05 + 134.09 + 865.53 + 212.57 + 242.73 + 6.65 + 55.05 \n",
    "                    \n",
    "                      = 1571.67\n",
    "                      \n",
    "         Var = Σ((X - μ)^2) / N\n",
    "         \n",
    "             = 1571.67 / 7\n",
    "             \n",
    "             = 224.52\n",
    "\n",
    "\n",
    "* Standard Deviation: The standard deviation is the square root of the variance. It measures the average deviation of each data point from the mean. The standard deviation provides a more interpretable measure of spread compared to the variance since it is in the same unit as the original data.\n",
    "\n",
    "Example: Same dataset.\n",
    "\n",
    "         std = √Var\n",
    "         \n",
    "             = √224.52\n",
    "             \n",
    "             = 14.98"
   ]
  },
  {
   "cell_type": "code",
   "execution_count": null,
   "id": "6af27879-3d30-448a-b1ad-d77d1a84f45f",
   "metadata": {},
   "outputs": [],
   "source": []
  },
  {
   "cell_type": "markdown",
   "id": "9b190bd8-3588-4e1c-9930-b2ae794972a1",
   "metadata": {},
   "source": [
    "Q6. What is a Venn diagram?"
   ]
  },
  {
   "cell_type": "markdown",
   "id": "6436e745-5a48-464e-a991-5edc6391968f",
   "metadata": {},
   "source": [
    "A Venn diagram is a visual representation used to illustrate relationships between different sets or groups of objects or concepts. It consists of overlapping circles or shapes that represent the sets, and the overlapping regions show the common elements or attributes shared by those sets. The non-overlapping regions represent the unique elements or attributes of each set."
   ]
  },
  {
   "cell_type": "code",
   "execution_count": null,
   "id": "a5c0b9f4-62d1-4614-ab52-ee54ea10a802",
   "metadata": {},
   "outputs": [],
   "source": []
  },
  {
   "cell_type": "markdown",
   "id": "fb8fec09-b0ad-451a-8213-dfb797a0c5ea",
   "metadata": {},
   "source": [
    "Q7. For the two given sets A = (2,3,4,5,6,7) & B = (0,2,6,8,10). Find:\n",
    "\n",
    "(i) \tA B\n",
    "\n",
    "(ii)\tA ⋃ B"
   ]
  },
  {
   "cell_type": "markdown",
   "id": "c45499b5-661a-4c39-9a1d-240fa9f5a578",
   "metadata": {},
   "source": [
    "* A ∩ B \n",
    "\n",
    "-> It consist common element of both set.\n",
    "\n",
    "A ∩ B = {2, 6}\n",
    "\n",
    "\n",
    "* A ⋃ B \n",
    "\n",
    "-> It consist combination of both set.\n",
    "\n",
    "A ⋃ B = {0, 2, 3, 4, 5, 6, 7, 8, 10}."
   ]
  },
  {
   "cell_type": "code",
   "execution_count": null,
   "id": "8a87c1a1-8634-4c32-9d77-ed771b68a4e1",
   "metadata": {},
   "outputs": [],
   "source": []
  },
  {
   "cell_type": "markdown",
   "id": "5656d803-7d99-40ee-ba12-4aca60671fe3",
   "metadata": {},
   "source": [
    "Q8. What do you understand about skewness in data?"
   ]
  },
  {
   "cell_type": "markdown",
   "id": "cbff97b8-05f7-474a-99ec-d57af053bc7e",
   "metadata": {},
   "source": [
    "-> Skewness describe shape of distribution.\n",
    "\n",
    "-> There is three type of skewness.\n",
    "\n",
    "1. Normal Skewness\n",
    "\n",
    "2. Positive Skewness\n",
    "\n",
    "3. Nagitive Skewness"
   ]
  },
  {
   "cell_type": "markdown",
   "id": "c7180915-7df5-4d25-8582-a4975e47efe6",
   "metadata": {},
   "source": [
    "* Normal Skewness\n",
    "\n",
    "It is also called as guassion skewed distribution.\n",
    "\n",
    "Both side of distribution is equal(50%-50%)."
   ]
  },
  {
   "cell_type": "markdown",
   "id": "74ae3c6f-af6c-4a20-bb5a-eee9157edd91",
   "metadata": {},
   "source": [
    "* Positive Skewness\n",
    "\n",
    "It is also called as right skewed distribution.\n",
    "\n",
    "The majority of the data is concentrated left side."
   ]
  },
  {
   "cell_type": "markdown",
   "id": "f4e2ad74-46a7-4b33-8c30-64ccf85a832d",
   "metadata": {},
   "source": [
    "* Nagitive Skewness\n",
    "\n",
    "It is also called as left skewed distribution.\n",
    "\n",
    "The majority of the data is concentrated right side."
   ]
  },
  {
   "cell_type": "code",
   "execution_count": null,
   "id": "3c9c962c-1304-4b6f-9d4a-2ceb64dfce6e",
   "metadata": {},
   "outputs": [],
   "source": []
  },
  {
   "cell_type": "markdown",
   "id": "7616fa72-9d59-470c-8435-1a24812ecfbc",
   "metadata": {},
   "source": [
    "Q9. If a data is right skewed then what will be the position of median with respect to mean?"
   ]
  },
  {
   "cell_type": "markdown",
   "id": "7df123da-dee7-4abc-9a73-87769baf0df5",
   "metadata": {},
   "source": [
    "Mean >= Median >= Mode\n",
    "\n",
    "If a dataset is right skewed , the median will typically be less than the mean."
   ]
  },
  {
   "cell_type": "code",
   "execution_count": null,
   "id": "642655bb-5437-4487-9428-1ac470442831",
   "metadata": {},
   "outputs": [],
   "source": []
  },
  {
   "cell_type": "markdown",
   "id": "f88d61e6-7448-43aa-b71b-955f266c54e7",
   "metadata": {},
   "source": [
    "Q10. Explain the difference between covariance and correlation. How are these measures used in \n",
    "statistical analysis?"
   ]
  },
  {
   "cell_type": "markdown",
   "id": "5afb71b2-81c0-40aa-9ad7-a463a16b64f1",
   "metadata": {},
   "source": [
    "* Difference\n",
    "\n",
    "Covariance:\n",
    "Covariance quantifies the extent to which changes in one variable correspond to changes in the other variable. Covariance can be positive, indicating a positive relationship where both variables tend to increase or decrease together, or negative, indicating an inverse relationship where one variable tends to increase while the other decreases.\n",
    "\n",
    "It can  influenced by outliers.Covariance doesn't have limt value to show the relationship.\n",
    "\n",
    "Correlation:\n",
    "Correlation ranges from -1 to +1. A correlation of +1 indicates a perfect positive linear relationship, a correlation of -1 indicates a perfect negative linear relationship, and a correlation of 0 indicates no linear relationship.\n",
    "\n",
    "It can't influenced by outliers."
   ]
  },
  {
   "cell_type": "markdown",
   "id": "ddc5f415-c3e1-469d-a2aa-f73451eefd9d",
   "metadata": {},
   "source": [
    "* Use in Statistics\n",
    "\n",
    "Covariance: Covariance is used to measure the relationship between two variables. It is used in portfolio analysis, where it helps assess the diversification of assets. Positive covariance between two assets suggests they tend to move together, while negative covariance suggests they tend to move in opposite directions.\n",
    "\n",
    "Correlation: Correlation is widely used to quantify and analyze relationships between variables. It is used to identify patterns, assess the strength and direction of associations, and make predictions. In fields such as finance, social sciences, and healthcare, correlation is used to study the relationships between variables and inform decision-making."
   ]
  },
  {
   "cell_type": "code",
   "execution_count": null,
   "id": "5fb749f4-3e1c-4f7d-b8ad-dd6789f79e39",
   "metadata": {},
   "outputs": [],
   "source": []
  },
  {
   "cell_type": "markdown",
   "id": "42e708ac-64be-47f3-be61-8047197abb7f",
   "metadata": {},
   "source": [
    "Q11. What is the formula for calculating the sample mean? Provide an example calculation for a \n",
    "dataset."
   ]
  },
  {
   "cell_type": "markdown",
   "id": "fa5e3a88-fc2d-482b-a5e2-daaa6e4e422c",
   "metadata": {},
   "source": [
    "* Formula\n",
    "\n",
    "Sample Mean = (Sum of all data points) / (Number of data points)\n",
    "\n",
    "* Example\n",
    "\n",
    "Dataset = 56,59,89,74,96,42,21\n",
    "\n",
    "Sample Mean = (Sum of all data points) / (Number of data points)\n",
    "            = 437 / 7\n",
    "            = 62.428"
   ]
  },
  {
   "cell_type": "code",
   "execution_count": null,
   "id": "47ebdc53-4359-45d3-96d2-019c89dabcc3",
   "metadata": {},
   "outputs": [],
   "source": []
  },
  {
   "cell_type": "markdown",
   "id": "b0c8b917-c541-48bf-a37e-b32c660a8da1",
   "metadata": {},
   "source": [
    "Q12. For a normal distribution data what is the relationship between its measure of central tendency?"
   ]
  },
  {
   "cell_type": "markdown",
   "id": "12785038-e92e-4a7e-82a2-24e53b829c1e",
   "metadata": {},
   "source": [
    "Mean = Median = Mode\n",
    "\n",
    "In a normally distributed dataset, the measures of central tendency will be in the same position at the center of the distribution."
   ]
  },
  {
   "cell_type": "code",
   "execution_count": null,
   "id": "7a859775-e2d7-4acc-b9cc-dbb2d9d82b06",
   "metadata": {},
   "outputs": [],
   "source": []
  },
  {
   "cell_type": "markdown",
   "id": "b4a92ce2-a3df-42c2-8e88-e7378e2ea3fc",
   "metadata": {},
   "source": [
    "Q13. How is covariance different from correlation?"
   ]
  },
  {
   "cell_type": "markdown",
   "id": "6a4545b5-0ad7-44be-88bc-e1b20d79a6ba",
   "metadata": {},
   "source": [
    "* Interpretation : Covariance doesn't have limit value for discribe the relationship,and on the other hand correlation has range of -1 to +1.\n",
    "\n",
    "* Scale : Covariance is scale depended and correlation is scale free.\n",
    "\n",
    "* Standardization : Correlation is standardize and covariance isn't standardize."
   ]
  },
  {
   "cell_type": "markdown",
   "id": "f1140db1-89c0-4bbe-a6b4-49b224b29165",
   "metadata": {},
   "source": [
    "Q14. How do outliers affect measures of central tendency and dispersion? Provide an example."
   ]
  },
  {
   "cell_type": "markdown",
   "id": "5d8d8e98-6007-4132-b811-3f079c3fd687",
   "metadata": {},
   "source": [
    "* Measure of Central Tendency\n",
    "\n",
    "* 1.Mean: Outliers can heavily influence the mean because it takes into account the value of every data point. \n",
    "\n",
    "Dataset = 1,2,3,4,5\n",
    "\n",
    "Mean = 1 + 2 + 3 + 4 + 5 / 5\n",
    "     = 3\n",
    "    \n",
    "Dataset = 1,2,3,4,5,200\n",
    "\n",
    "Mean = 1 + 2 + 3 + 4 + 5 + 200 / 6\n",
    "     = 35.83\n",
    "    \n",
    "-> With the help of examples we can see clearly difference between means.\n",
    "\n",
    "-> That happanse because of the outlier 200.\n",
    "\n",
    "* 2.Median: Outliers have less influence on the median unless they are among the central values.\n",
    "\n",
    "Dataset = 1,2,3,4,5,200\n",
    "\n",
    "Median = 3 + 4 / 2\n",
    "       = 3.5\n",
    "\n",
    "* 3.Mode: The mode is not significantly influenced by outliers because it represents the most frequent value(s) in the dataset.\n",
    "\n",
    "Dataset = 1,2,3,4,5,3,200,3\n",
    "\n",
    "Mode = 3"
   ]
  },
  {
   "cell_type": "markdown",
   "id": "0e840527-8e3b-445f-9572-6f335136cee3",
   "metadata": {},
   "source": [
    "* Measure of Dispersion\n",
    "\n",
    "* 1.Range: Outliers can significantly affect the range because it is calculated as the difference between the maximum and minimum values. A single outlier with an extreme value can widen the range substantially.\n",
    "\n",
    "-> The range is drastically impacted by the outlier. The difference between the maximum value (200) and the minimum value (1) becomes 199, which is much larger due to the outlier.\n",
    "\n",
    "* 2.Variance: Outliers impact the variance calculation because it involves squaring the differences between each data point and the mean. If an outlier has a large deviation from the mean, it will contribute heavily to the variance.\n",
    "\n",
    "-> The variance is heavily influenced by the outlier. The squared differences between each data point and the mean, including the outlier, result in a larger variance value.\n",
    "\n",
    "* 3.Standard Deviation: Similar to variance, the standard deviation is influenced by outliers since it is derived from the square root of the variance. Outliers with large deviations from the mean will result in an increased standard deviation.\n",
    "\n",
    "-> "
   ]
  }
 ],
 "metadata": {
  "kernelspec": {
   "display_name": "Python 3 (ipykernel)",
   "language": "python",
   "name": "python3"
  },
  "language_info": {
   "codemirror_mode": {
    "name": "ipython",
    "version": 3
   },
   "file_extension": ".py",
   "mimetype": "text/x-python",
   "name": "python",
   "nbconvert_exporter": "python",
   "pygments_lexer": "ipython3",
   "version": "3.10.8"
  }
 },
 "nbformat": 4,
 "nbformat_minor": 5
}
